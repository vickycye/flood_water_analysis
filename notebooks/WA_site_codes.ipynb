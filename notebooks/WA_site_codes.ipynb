{
 "cells": [
  {
   "cell_type": "markdown",
   "id": "d02ace13",
   "metadata": {},
   "source": [
    "### Gathering Washington State Water Monitoring Location Codes\n",
    "\n",
    "**The first block only has to be run once**"
   ]
  },
  {
   "cell_type": "code",
   "execution_count": null,
   "id": "9509bf4f",
   "metadata": {},
   "outputs": [],
   "source": [
    "# grabs the json file from the USGS NWIS service for Washington state water monitoring locations\n",
    "# This is a static file, so it can be downloaded once and used multiple times unless new locations are added.\n",
    "\n",
    "from bs4 import BeautifulSoup\n",
    "import requests\n",
    "import json\n",
    "\n",
    "url = \"https://waterservices.usgs.gov/nwis/iv/?stateCd=53&format=json\"      # \"https://waterdata.usgs.gov/reference-list/huc/HUC6/?hucs=171001,171100,170102,170200,170103,170300,170601,170701,170800\"\n",
    "\n",
    "response = requests.get(url)\n",
    "response.raise_for_status()  # will raise an error if the request failed\n",
    "\n",
    "data = response.json()\n",
    "\n",
    "with open('../data/raw_data/scraped/WA_sites.json', 'w') as f:\n",
    "    json.dump(data, f, indent=4)"
   ]
  },
  {
   "cell_type": "code",
   "execution_count": 21,
   "id": "9397eaa7",
   "metadata": {},
   "outputs": [
    {
     "name": "stdout",
     "output_type": "stream",
     "text": [
      "Saved 567 8-digit site codes to site_codes.txt\n"
     ]
    }
   ],
   "source": [
    "# use already existing json file\n",
    "with open('../data/raw_data/scraped/WA_sites.json', 'r') as f:\n",
    "    data = json.load(f)\n",
    "\n",
    "# extract the list of timeSeries entries\n",
    "time_series = data['value']['timeSeries']\n",
    "\n",
    "site_codes = set()\n",
    "\n",
    "for site in time_series:\n",
    "    code = site['sourceInfo']['siteCode'][0]['value']\n",
    "    if len(code) == 8 and code.isdigit():\n",
    "        site_codes.add(code)\n",
    "\n",
    "\n",
    "# print(site_codes)\n",
    "# print(len(site_codes))\n",
    "\n",
    "with open('../data/raw_data/processed_data/site_codes.txt', 'w') as f:\n",
    "    for code in sorted(site_codes):\n",
    "        f.write(f\"{code}\\n\")\n",
    "\n",
    "print(f\"Saved {len(site_codes)} 8-digit site codes to site_codes.txt\")\n"
   ]
  }
 ],
 "metadata": {
  "kernelspec": {
   "display_name": "vye",
   "language": "python",
   "name": "python3"
  },
  "language_info": {
   "codemirror_mode": {
    "name": "ipython",
    "version": 3
   },
   "file_extension": ".py",
   "mimetype": "text/x-python",
   "name": "python",
   "nbconvert_exporter": "python",
   "pygments_lexer": "ipython3",
   "version": "3.12.7"
  }
 },
 "nbformat": 4,
 "nbformat_minor": 5
}
