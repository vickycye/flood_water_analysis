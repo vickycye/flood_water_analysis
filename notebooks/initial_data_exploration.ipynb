{
 "cells": [
  {
   "cell_type": "markdown",
   "id": "b7ca0c93",
   "metadata": {},
   "source": [
    "# Initial Data Exploration - Snohomish River at Monroe"
   ]
  },
  {
   "cell_type": "code",
   "execution_count": null,
   "id": "d82af28e",
   "metadata": {
    "vscode": {
     "languageId": "plaintext"
    }
   },
   "outputs": [],
   "source": [
    "# USGS site 12150800\n",
    "\n",
    "\n"
   ]
  }
 ],
 "metadata": {
  "language_info": {
   "name": "python"
  }
 },
 "nbformat": 4,
 "nbformat_minor": 5
}
